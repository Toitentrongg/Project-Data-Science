{
 "cells": [
  {
   "cell_type": "code",
   "execution_count": 6,
   "id": "initial_id",
   "metadata": {
    "collapsed": true,
    "ExecuteTime": {
     "end_time": "2024-06-11T18:12:11.046289Z",
     "start_time": "2024-06-11T18:12:11.002403Z"
    }
   },
   "outputs": [],
   "source": [
    "import pandas as pd  #  thư viện Pandas để làm việc với dữ liệu dạng bảng\n",
    "from sklearn.preprocessing import LabelEncoder  #  class LabelEncoder từ thư viện scikit-learn để chuyển đổi dữ liệu categorical thành dạng số\n",
    "from sklearn.naive_bayes import GaussianNB  #  mô hình Naive Bayes từ scikit-learn, cụ thể là Gaussian Naive Bayes\n",
    "from sklearn.metrics import confusion_matrix, ConfusionMatrixDisplay, classification_report  #  các hàm và class để đánh giá mô hình như confusion matrix và classification report\n",
    "import matplotlib.pyplot as plt  #  thư viện matplotlib để vẽ biểu đồ\n",
    "\n",
    "# Đường dẫn đến file chứa dữ liệu CSV\n",
    "file_path = 'Data/Book2.csv'\n",
    "\n",
    "# Đọc dữ liệu từ file CSV vào DataFrame của Pandas\n",
    "data = pd.read_csv(file_path)"
   ]
  },
  {
   "cell_type": "code",
   "outputs": [],
   "source": [
    "# Dùng LabelEncoder để chuyển các cột categorical thành dạng số và lưu trữ các label encoder vào `label_encoders`\n",
    "label_encoders = {}\n",
    "for column in ['age_group', 'serum_creatinine']:\n",
    "    le = LabelEncoder()\n",
    "    data[column] = le.fit_transform(data[column])\n",
    "    label_encoders[column] = le\n",
    "\n",
    "# Chia dữ liệu thành tập train và tập test\n",
    "test_size = 60\n",
    "train_size = len(data) - test_size\n"
   ],
   "metadata": {
    "collapsed": false,
    "ExecuteTime": {
     "end_time": "2024-06-11T18:12:13.249244Z",
     "start_time": "2024-06-11T18:12:13.242305Z"
    }
   },
   "id": "ce9cf843f461c2e1",
   "execution_count": 7
  },
  {
   "cell_type": "code",
   "outputs": [],
   "source": [
    "\n",
    "X_train = data.iloc[:train_size].drop('DEATH_EVENT', axis=1)  # Các feature của tập train\n",
    "y_train = data.iloc[:train_size]['DEATH_EVENT']  # Nhãn của tập train\n",
    "\n",
    "X_test = data.iloc[train_size:].drop('DEATH_EVENT', axis=1)  # Các feature của tập test\n",
    "y_test = data.iloc[train_size:]['DEATH_EVENT']  # Nhãn của tập test\n",
    "\n",
    "# Huấn luyện mô hình Gaussian Naive Bayes trên tập train\n",
    "model = GaussianNB()\n",
    "model.fit(X_train, y_train)\n",
    "\n",
    "# Dự đoán nhãn trên tập test sử dụng mô hình đã huấn luyện\n",
    "y_pred = model.predict(X_test)\n",
    "\n",
    "# Tính confusion matrix để đánh giá hiệu suất của mô hình\n",
    "cm = confusion_matrix(y_test, y_pred)\n",
    "\n",
    "# Tính và in ra các giá trị True Positives, False Negatives, False Positives, True Negatives từ confusion matrix\n",
    "tp = cm[1, 1]\n",
    "fn = cm[1, 0]\n",
    "fp = cm[0, 1]\n",
    "tn = cm[0, 0]\n",
    "\n",
    "cm_values = {\n",
    "    \"True Positives (TP)\": tp,\n",
    "    \"False Negatives (FN)\": fn,\n",
    "    \"False Positives (FP)\": fp,\n",
    "    \"True Negatives (TN)\": tn\n",
    "}"
   ],
   "metadata": {
    "collapsed": false,
    "ExecuteTime": {
     "end_time": "2024-06-11T18:12:14.485588Z",
     "start_time": "2024-06-11T18:12:14.470793Z"
    }
   },
   "id": "49dbd79b5adcb287",
   "execution_count": 8
  },
  {
   "cell_type": "code",
   "outputs": [
    {
     "name": "stdout",
     "output_type": "stream",
     "text": [
      "Confusion Matrix:\n",
      "[[47 10]\n",
      " [ 2  1]]\n",
      "\n",
      "Confusion Matrix Values:\n",
      "{'True Positives (TP)': 1, 'False Negatives (FN)': 2, 'False Positives (FP)': 10, 'True Negatives (TN)': 47}\n",
      "\n",
      "Classification Report:\n",
      "              precision    recall  f1-score   support\n",
      "\n",
      "           0       0.96      0.82      0.89        57\n",
      "           1       0.09      0.33      0.14         3\n",
      "\n",
      "    accuracy                           0.80        60\n",
      "   macro avg       0.53      0.58      0.51        60\n",
      "weighted avg       0.92      0.80      0.85        60\n"
     ]
    }
   ],
   "source": [
    "\n",
    "# Tính và in ra classification report bao gồm precision, recall, và f1-score\n",
    "report = classification_report(y_test, y_pred)\n",
    "\n",
    "print(\"Confusion Matrix:\")\n",
    "print(cm)\n",
    "print(\"\\nConfusion Matrix Values:\")\n",
    "print(cm_values)\n",
    "print(\"\\nClassification Report:\")\n",
    "print(report)"
   ],
   "metadata": {
    "collapsed": false,
    "ExecuteTime": {
     "end_time": "2024-06-11T18:12:15.101342Z",
     "start_time": "2024-06-11T18:12:15.092785Z"
    }
   },
   "id": "e02d76ce88874e71",
   "execution_count": 9
  },
  {
   "cell_type": "code",
   "outputs": [
    {
     "data": {
      "text/plain": "<Figure size 640x480 with 2 Axes>",
      "image/png": "[encoded data removed]"
     },
     "metadata": {},
     "output_type": "display_data"
    }
   ],
   "source": [
    "# Vẽ biểu đồ confusion matrix sử dụng ConfusionMatrixDisplay từ thư viện matplotlib\n",
    "disp = ConfusionMatrixDisplay(confusion_matrix=cm, display_labels=model.classes_)\n",
    "disp.plot(cmap=plt.cm.Blues, colorbar=True, values_format='.0f')\n",
    "plt.title(\"Confusion Matrix\")\n",
    "plt.show()\n"
   ],
   "metadata": {
    "collapsed": false,
    "ExecuteTime": {
     "end_time": "2024-06-11T18:15:03.368089Z",
     "start_time": "2024-06-11T18:15:03.273864Z"
    }
   },
   "id": "5684855bc24ac40f",
   "execution_count": 18
  },
  {
   "cell_type": "code",
   "outputs": [],
   "source": [],
   "metadata": {
    "collapsed": false
   },
   "id": "71482b2723a3affc"
  }
 ],
 "metadata": {
  "kernelspec": {
   "display_name": "Python 3",
   "language": "python",
   "name": "python3"
  },
  "language_info": {
   "codemirror_mode": {
    "name": "ipython",
    "version": 2
   },
   "file_extension": ".py",
   "mimetype": "text/x-python",
   "name": "python",
   "nbconvert_exporter": "python",
   "pygments_lexer": "ipython2",
   "version": "2.7.6"
  }
 },
 "nbformat": 4,
 "nbformat_minor": 5
}
