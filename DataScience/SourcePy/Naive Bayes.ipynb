{
 "cells": [
  {
   "cell_type": "code",
   "execution_count": 1,
   "id": "initial_id",
   "metadata": {
    "collapsed": true,
    "ExecuteTime": {
     "end_time": "2024-06-11T18:05:42.146996Z",
     "start_time": "2024-06-11T18:05:42.132503Z"
    }
   },
   "outputs": [
    {
     "data": {
      "text/plain": "   age    age_group  anaemia  creatinine_phosphokinase  diabetes  \\\n0   75      Elderly        0                       582         0   \n1   55  Middle-aged        0                      7861         0   \n2   65      Elderly        0                       146         0   \n3   50  Middle-aged        1                       111         0   \n4   65      Elderly        1                       160         1   \n\n   ejection_fraction  high_blood_pressure  platelets  serum_creatinine  \\\n0                 20                    1  265000.00               1.9   \n1                 38                    0  263358.03               1.1   \n2                 20                    0  162000.00               1.3   \n3                 20                    0  210000.00               1.9   \n4                 20                    0  327000.00               2.7   \n\n   serum_sodium  sex  smoking  time  DEATH_EVENT  \n0           130    1        0     4            1  \n1           136    1        0     6            1  \n2           129    1        1     7            1  \n3           137    1        0     7            1  \n4           116    0        0     8            1  ",
      "text/html": "<div>\n<style scoped>\n    .dataframe tbody tr th:only-of-type {\n        vertical-align: middle;\n    }\n\n    .dataframe tbody tr th {\n        vertical-align: top;\n    }\n\n    .dataframe thead th {\n        text-align: right;\n    }\n</style>\n<table border=\"1\" class=\"dataframe\">\n  <thead>\n    <tr style=\"text-align: right;\">\n      <th></th>\n      <th>age</th>\n      <th>age_group</th>\n      <th>anaemia</th>\n      <th>creatinine_phosphokinase</th>\n      <th>diabetes</th>\n      <th>ejection_fraction</th>\n      <th>high_blood_pressure</th>\n      <th>platelets</th>\n      <th>serum_creatinine</th>\n      <th>serum_sodium</th>\n      <th>sex</th>\n      <th>smoking</th>\n      <th>time</th>\n      <th>DEATH_EVENT</th>\n    </tr>\n  </thead>\n  <tbody>\n    <tr>\n      <th>0</th>\n      <td>75</td>\n      <td>Elderly</td>\n      <td>0</td>\n      <td>582</td>\n      <td>0</td>\n      <td>20</td>\n      <td>1</td>\n      <td>265000.00</td>\n      <td>1.9</td>\n      <td>130</td>\n      <td>1</td>\n      <td>0</td>\n      <td>4</td>\n      <td>1</td>\n    </tr>\n    <tr>\n      <th>1</th>\n      <td>55</td>\n      <td>Middle-aged</td>\n      <td>0</td>\n      <td>7861</td>\n      <td>0</td>\n      <td>38</td>\n      <td>0</td>\n      <td>263358.03</td>\n      <td>1.1</td>\n      <td>136</td>\n      <td>1</td>\n      <td>0</td>\n      <td>6</td>\n      <td>1</td>\n    </tr>\n    <tr>\n      <th>2</th>\n      <td>65</td>\n      <td>Elderly</td>\n      <td>0</td>\n      <td>146</td>\n      <td>0</td>\n      <td>20</td>\n      <td>0</td>\n      <td>162000.00</td>\n      <td>1.3</td>\n      <td>129</td>\n      <td>1</td>\n      <td>1</td>\n      <td>7</td>\n      <td>1</td>\n    </tr>\n    <tr>\n      <th>3</th>\n      <td>50</td>\n      <td>Middle-aged</td>\n      <td>1</td>\n      <td>111</td>\n      <td>0</td>\n      <td>20</td>\n      <td>0</td>\n      <td>210000.00</td>\n      <td>1.9</td>\n      <td>137</td>\n      <td>1</td>\n      <td>0</td>\n      <td>7</td>\n      <td>1</td>\n    </tr>\n    <tr>\n      <th>4</th>\n      <td>65</td>\n      <td>Elderly</td>\n      <td>1</td>\n      <td>160</td>\n      <td>1</td>\n      <td>20</td>\n      <td>0</td>\n      <td>327000.00</td>\n      <td>2.7</td>\n      <td>116</td>\n      <td>0</td>\n      <td>0</td>\n      <td>8</td>\n      <td>1</td>\n    </tr>\n  </tbody>\n</table>\n</div>"
     },
     "execution_count": 1,
     "metadata": {},
     "output_type": "execute_result"
    }
   ],
   "source": [
    "import pandas as pd\n",
    "\n",
    "# Load the dataset\n",
    "file_path = 'Data/Dataa.csv'\n",
    "data = pd.read_csv(file_path)\n",
    "\n",
    "# Display the first few rows of the dataset to understand its structure\n",
    "data.head()\n"
   ]
  },
  {
   "cell_type": "code",
   "outputs": [
    {
     "data": {
      "text/plain": "     age_group  anaemia creatinine_level  high_blood_pressure  DEATH_EVENT\n0      Elderly        0             High                    1            1\n1  Middle-aged        0           Normal                    0            1\n2      Elderly        0           Normal                    0            1\n3  Middle-aged        1             High                    0            1\n4      Elderly        1        Very High                    0            1",
      "text/html": "<div>\n<style scoped>\n    .dataframe tbody tr th:only-of-type {\n        vertical-align: middle;\n    }\n\n    .dataframe tbody tr th {\n        vertical-align: top;\n    }\n\n    .dataframe thead th {\n        text-align: right;\n    }\n</style>\n<table border=\"1\" class=\"dataframe\">\n  <thead>\n    <tr style=\"text-align: right;\">\n      <th></th>\n      <th>age_group</th>\n      <th>anaemia</th>\n      <th>creatinine_level</th>\n      <th>high_blood_pressure</th>\n      <th>DEATH_EVENT</th>\n    </tr>\n  </thead>\n  <tbody>\n    <tr>\n      <th>0</th>\n      <td>Elderly</td>\n      <td>0</td>\n      <td>High</td>\n      <td>1</td>\n      <td>1</td>\n    </tr>\n    <tr>\n      <th>1</th>\n      <td>Middle-aged</td>\n      <td>0</td>\n      <td>Normal</td>\n      <td>0</td>\n      <td>1</td>\n    </tr>\n    <tr>\n      <th>2</th>\n      <td>Elderly</td>\n      <td>0</td>\n      <td>Normal</td>\n      <td>0</td>\n      <td>1</td>\n    </tr>\n    <tr>\n      <th>3</th>\n      <td>Middle-aged</td>\n      <td>1</td>\n      <td>High</td>\n      <td>0</td>\n      <td>1</td>\n    </tr>\n    <tr>\n      <th>4</th>\n      <td>Elderly</td>\n      <td>1</td>\n      <td>Very High</td>\n      <td>0</td>\n      <td>1</td>\n    </tr>\n  </tbody>\n</table>\n</div>"
     },
     "execution_count": 2,
     "metadata": {},
     "output_type": "execute_result"
    }
   ],
   "source": [
    "# Transform 'age' column\n",
    "def age_group(age):\n",
    "    if 40 <= age < 60:\n",
    "        return 'Middle-aged'\n",
    "    elif 60 <= age < 80:\n",
    "        return 'Elderly'\n",
    "    elif 80 <= age <= 100:\n",
    "        return 'Senior Citizens'\n",
    "    else:\n",
    "        return 'Unknown'\n",
    "\n",
    "# Transform 'serum_creatinine' column\n",
    "def creatinine_level(creatinine):\n",
    "    if creatinine < 1.0:\n",
    "        return 'Low'\n",
    "    elif 1.0 <= creatinine <= 1.5:\n",
    "        return 'Normal'\n",
    "    elif 1.5 < creatinine <= 2.0:\n",
    "        return 'High'\n",
    "    else:\n",
    "        return 'Very High'\n",
    "\n",
    "# Apply transformations\n",
    "data['age_group'] = data['age'].apply(age_group)\n",
    "data['creatinine_level'] = data['serum_creatinine'].apply(creatinine_level)\n",
    "\n",
    "# Select relevant columns for the classifier\n",
    "data = data[['age_group', 'anaemia', 'creatinine_level', 'high_blood_pressure', 'DEATH_EVENT']]\n",
    "\n",
    "# Display the transformed dataset\n",
    "data.head()\n"
   ],
   "metadata": {
    "collapsed": false,
    "ExecuteTime": {
     "end_time": "2024-06-11T18:05:44.755432Z",
     "start_time": "2024-06-11T18:05:44.746605Z"
    }
   },
   "id": "20ebf28f03e7985b",
   "execution_count": 2
  },
  {
   "cell_type": "code",
   "outputs": [
    {
     "data": {
      "text/plain": "0.6666666666666666"
     },
     "execution_count": 3,
     "metadata": {},
     "output_type": "execute_result"
    }
   ],
   "source": [
    "from sklearn.preprocessing import LabelEncoder\n",
    "from sklearn.model_selection import train_test_split\n",
    "from sklearn.naive_bayes import CategoricalNB\n",
    "from sklearn.metrics import accuracy_score\n",
    "\n",
    "# Encode categorical variables\n",
    "label_encoders = {}\n",
    "for column in ['age_group', 'creatinine_level']:\n",
    "    le = LabelEncoder()\n",
    "    data[column] = le.fit_transform(data[column])\n",
    "    label_encoders[column] = le\n",
    "\n",
    "# Define features and target variable\n",
    "X = data[['age_group', 'anaemia', 'creatinine_level', 'high_blood_pressure']]\n",
    "y = data['DEATH_EVENT']\n",
    "\n",
    "# Split data into training and test sets\n",
    "X_train, X_test, y_train, y_test = train_test_split(X, y, test_size=0.2, random_state=42)\n",
    "\n",
    "# Train Naive Bayes classifier\n",
    "model = CategoricalNB()\n",
    "model.fit(X_train, y_train)\n",
    "\n",
    "# Evaluate the model\n",
    "y_pred = model.predict(X_test)\n",
    "accuracy = accuracy_score(y_test, y_pred)\n",
    "\n",
    "accuracy\n"
   ],
   "metadata": {
    "collapsed": false,
    "ExecuteTime": {
     "end_time": "2024-06-11T18:05:47.914357Z",
     "start_time": "2024-06-11T18:05:47.787134Z"
    }
   },
   "id": "1be0f8335c5c49d8",
   "execution_count": 3
  },
  {
   "cell_type": "code",
   "outputs": [
    {
     "data": {
      "text/plain": "0"
     },
     "execution_count": 4,
     "metadata": {},
     "output_type": "execute_result"
    }
   ],
   "source": [
    "# Encode the given input using the label encoders\n",
    "input_data = {\n",
    "    'age_group': label_encoders['age_group'].transform(['Middle-aged'])[0],\n",
    "    'anaemia': 0,\n",
    "    'creatinine_level': label_encoders['creatinine_level'].transform(['Normal'])[0],\n",
    "    'high_blood_pressure': 1\n",
    "}\n",
    "\n",
    "# Convert input data to DataFrame\n",
    "input_df = pd.DataFrame([input_data])\n",
    "\n",
    "# Predict the class for the given input\n",
    "prediction = model.predict(input_df)[0]\n",
    "\n",
    "# Output the prediction\n",
    "prediction\n"
   ],
   "metadata": {
    "collapsed": false,
    "ExecuteTime": {
     "end_time": "2024-06-11T18:05:50.425530Z",
     "start_time": "2024-06-11T18:05:50.418774Z"
    }
   },
   "id": "f0769c62ed5e6652",
   "execution_count": 4
  },
  {
   "cell_type": "code",
   "outputs": [],
   "source": [],
   "metadata": {
    "collapsed": false
   },
   "id": "d6d9e18dbd621bfe"
  }
 ],
 "metadata": {
  "kernelspec": {
   "display_name": "Python 3",
   "language": "python",
   "name": "python3"
  },
  "language_info": {
   "codemirror_mode": {
    "name": "ipython",
    "version": 2
   },
   "file_extension": ".py",
   "mimetype": "text/x-python",
   "name": "python",
   "nbconvert_exporter": "python",
   "pygments_lexer": "ipython2",
   "version": "2.7.6"
  }
 },
 "nbformat": 4,
 "nbformat_minor": 5
}
